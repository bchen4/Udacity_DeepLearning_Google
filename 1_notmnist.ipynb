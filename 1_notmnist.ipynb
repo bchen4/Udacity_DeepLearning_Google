{
 "cells": [
  {
   "cell_type": "markdown",
   "metadata": {
    "colab_type": "text",
    "id": "5hIbr52I7Z7U"
   },
   "source": [
    "Deep Learning\n",
    "=============\n",
    "\n",
    "Assignment 1\n",
    "------------\n",
    "\n",
    "The objective of this assignment is to learn about simple data curation practices, and familiarize you with some of the data we'll be reusing later.\n",
    "\n",
    "This notebook uses the [notMNIST](http://yaroslavvb.blogspot.com/2011/09/notmnist-dataset.html) dataset to be used with python experiments. This dataset is designed to look like the classic [MNIST](http://yann.lecun.com/exdb/mnist/) dataset, while looking a little more like real data: it's a harder task, and the data is a lot less 'clean' than MNIST."
   ]
  },
  {
   "cell_type": "code",
   "execution_count": 1,
   "metadata": {
    "cellView": "both",
    "colab": {
     "autoexec": {
      "startup": false,
      "wait_interval": 0
     }
    },
    "colab_type": "code",
    "collapsed": true,
    "id": "apJbCsBHl-2A"
   },
   "outputs": [],
   "source": [
    "# These are all the modules we'll be using later. Make sure you can import them\n",
    "# before proceeding further.\n",
    "from __future__ import print_function\n",
    "import matplotlib.pyplot as plt\n",
    "import numpy as np\n",
    "import os\n",
    "import sys\n",
    "import tarfile\n",
    "from IPython.display import display, Image\n",
    "from scipy import ndimage\n",
    "from sklearn.linear_model import LogisticRegression\n",
    "from six.moves.urllib.request import urlretrieve\n",
    "from six.moves import cPickle as pickle\n",
    "\n",
    "# Config the matplotlib backend as plotting inline in IPython\n",
    "%matplotlib inline"
   ]
  },
  {
   "cell_type": "markdown",
   "metadata": {
    "colab_type": "text",
    "id": "jNWGtZaXn-5j"
   },
   "source": [
    "First, we'll download the dataset to our local machine. The data consists of characters rendered in a variety of fonts on a 28x28 image. The labels are limited to 'A' through 'J' (10 classes). The training set has about 500k and the testset 19000 labelled examples. Given these sizes, it should be possible to train models quickly on any machine."
   ]
  },
  {
   "cell_type": "code",
   "execution_count": 2,
   "metadata": {
    "cellView": "both",
    "colab": {
     "autoexec": {
      "startup": false,
      "wait_interval": 0
     },
     "output_extras": [
      {
       "item_id": 1
      }
     ]
    },
    "colab_type": "code",
    "collapsed": false,
    "executionInfo": {
     "elapsed": 186058,
     "status": "ok",
     "timestamp": 1444485672507,
     "user": {
      "color": "#1FA15D",
      "displayName": "Vincent Vanhoucke",
      "isAnonymous": false,
      "isMe": true,
      "permissionId": "05076109866853157986",
      "photoUrl": "//lh6.googleusercontent.com/-cCJa7dTDcgQ/AAAAAAAAAAI/AAAAAAAACgw/r2EZ_8oYer4/s50-c-k-no/photo.jpg",
      "sessionId": "2a0a5e044bb03b66",
      "userId": "102167687554210253930"
     },
     "user_tz": 420
    },
    "id": "EYRJ4ICW6-da",
    "outputId": "0d0f85df-155f-4a89-8e7e-ee32df36ec8d"
   },
   "outputs": [
    {
     "name": "stdout",
     "output_type": "stream",
     "text": [
      "Found and verified ./notMNIST_large.tar.gz\n",
      "Found and verified ./notMNIST_small.tar.gz\n"
     ]
    }
   ],
   "source": [
    "url = 'http://commondatastorage.googleapis.com/books1000/'\n",
    "last_percent_reported = None\n",
    "data_root = '.' # Change me to store data elsewhere\n",
    "\n",
    "def download_progress_hook(count, blockSize, totalSize):\n",
    "  \"\"\"A hook to report the progress of a download. This is mostly intended for users with\n",
    "  slow internet connections. Reports every 5% change in download progress.\n",
    "  \"\"\"\n",
    "  global last_percent_reported\n",
    "  percent = int(count * blockSize * 100 / totalSize)\n",
    "\n",
    "  if last_percent_reported != percent:\n",
    "    if percent % 5 == 0:\n",
    "      sys.stdout.write(\"%s%%\" % percent)\n",
    "      sys.stdout.flush()\n",
    "    else:\n",
    "      sys.stdout.write(\".\")\n",
    "      sys.stdout.flush()\n",
    "      \n",
    "    last_percent_reported = percent\n",
    "        \n",
    "def maybe_download(filename, expected_bytes, force=False):\n",
    "  \"\"\"Download a file if not present, and make sure it's the right size.\"\"\"\n",
    "  dest_filename = os.path.join(data_root, filename)\n",
    "  if force or not os.path.exists(dest_filename):\n",
    "    print('Attempting to download:', filename) \n",
    "    filename, _ = urlretrieve(url + filename, dest_filename, reporthook=download_progress_hook)\n",
    "    print('\\nDownload Complete!')\n",
    "  statinfo = os.stat(dest_filename)\n",
    "  if statinfo.st_size == expected_bytes:\n",
    "    print('Found and verified', dest_filename)\n",
    "  else:\n",
    "    raise Exception(\n",
    "      'Failed to verify ' + dest_filename + '. Can you get to it with a browser?')\n",
    "  return dest_filename\n",
    "\n",
    "train_filename = maybe_download('notMNIST_large.tar.gz', 247336696)\n",
    "test_filename = maybe_download('notMNIST_small.tar.gz', 8458043)"
   ]
  },
  {
   "cell_type": "markdown",
   "metadata": {
    "colab_type": "text",
    "id": "cC3p0oEyF8QT"
   },
   "source": [
    "Extract the dataset from the compressed .tar.gz file.\n",
    "This should give you a set of directories, labelled A through J."
   ]
  },
  {
   "cell_type": "code",
   "execution_count": 3,
   "metadata": {
    "cellView": "both",
    "colab": {
     "autoexec": {
      "startup": false,
      "wait_interval": 0
     },
     "output_extras": [
      {
       "item_id": 1
      }
     ]
    },
    "colab_type": "code",
    "collapsed": false,
    "executionInfo": {
     "elapsed": 186055,
     "status": "ok",
     "timestamp": 1444485672525,
     "user": {
      "color": "#1FA15D",
      "displayName": "Vincent Vanhoucke",
      "isAnonymous": false,
      "isMe": true,
      "permissionId": "05076109866853157986",
      "photoUrl": "//lh6.googleusercontent.com/-cCJa7dTDcgQ/AAAAAAAAAAI/AAAAAAAACgw/r2EZ_8oYer4/s50-c-k-no/photo.jpg",
      "sessionId": "2a0a5e044bb03b66",
      "userId": "102167687554210253930"
     },
     "user_tz": 420
    },
    "id": "H8CBE-WZ8nmj",
    "outputId": "ef6c790c-2513-4b09-962e-27c79390c762"
   },
   "outputs": [
    {
     "name": "stdout",
     "output_type": "stream",
     "text": [
      "./notMNIST_large already present - Skipping extraction of ./notMNIST_large.tar.gz.\n",
      "['./notMNIST_large/A', './notMNIST_large/B', './notMNIST_large/C', './notMNIST_large/D', './notMNIST_large/E', './notMNIST_large/F', './notMNIST_large/G', './notMNIST_large/H', './notMNIST_large/I', './notMNIST_large/J']\n",
      "./notMNIST_small already present - Skipping extraction of ./notMNIST_small.tar.gz.\n",
      "['./notMNIST_small/A', './notMNIST_small/B', './notMNIST_small/C', './notMNIST_small/D', './notMNIST_small/E', './notMNIST_small/F', './notMNIST_small/G', './notMNIST_small/H', './notMNIST_small/I', './notMNIST_small/J']\n"
     ]
    }
   ],
   "source": [
    "num_classes = 10\n",
    "np.random.seed(133)\n",
    "\n",
    "def maybe_extract(filename, force=False):\n",
    "  root = os.path.splitext(os.path.splitext(filename)[0])[0]  # remove .tar.gz\n",
    "  if os.path.isdir(root) and not force:\n",
    "    # You may override by setting force=True.\n",
    "    print('%s already present - Skipping extraction of %s.' % (root, filename))\n",
    "  else:\n",
    "    print('Extracting data for %s. This may take a while. Please wait.' % root)\n",
    "    tar = tarfile.open(filename)\n",
    "    sys.stdout.flush()\n",
    "    tar.extractall()\n",
    "    tar.close()\n",
    "  data_folders = [\n",
    "    os.path.join(root, d) for d in sorted(os.listdir(root))\n",
    "    if os.path.isdir(os.path.join(root, d))]\n",
    "  if len(data_folders) != num_classes:\n",
    "    raise Exception(\n",
    "      'Expected %d folders, one per class. Found %d instead.' % (\n",
    "        num_classes, len(data_folders)))\n",
    "  print(data_folders)\n",
    "  return data_folders\n",
    "  \n",
    "train_folders = maybe_extract(train_filename)\n",
    "test_folders = maybe_extract(test_filename)"
   ]
  },
  {
   "cell_type": "markdown",
   "metadata": {
    "colab_type": "text",
    "id": "4riXK3IoHgx6"
   },
   "source": [
    "---\n",
    "Problem 1\n",
    "---------\n",
    "\n",
    "Let's take a peek at some of the data to make sure it looks sensible. Each exemplar should be an image of a character A through J rendered in a different font. Display a sample of the images that we just downloaded. Hint: you can use the package IPython.display.\n",
    "\n",
    "---"
   ]
  },
  {
   "cell_type": "code",
   "execution_count": 4,
   "metadata": {
    "collapsed": false
   },
   "outputs": [
    {
     "data": {
      "image/png": "[encoded data removed]",
      "text/plain": [
       "<IPython.core.display.Image object>"
      ]
     },
     "metadata": {},
     "output_type": "display_data"
    },
    {
     "data": {
      "image/png": "[encoded data removed]",
      "text/plain": [
       "<IPython.core.display.Image object>"
      ]
     },
     "metadata": {},
     "output_type": "display_data"
    },
    {
     "data": {
      "image/png": "[encoded data removed]",
      "text/plain": [
       "<IPython.core.display.Image object>"
      ]
     },
     "metadata": {},
     "output_type": "display_data"
    },
    {
     "data": {
      "image/png": "[encoded data removed]",
      "text/plain": [
       "<IPython.core.display.Image object>"
      ]
     },
     "metadata": {},
     "output_type": "display_data"
    }
   ],
   "source": [
    "display(Image(\"notMNIST_large/E/IzQ0IEZvbnQgU2hhZG93LnR0Zg==.png\"))\n",
    "display(Image(\"notMNIST_small/A/MTJTYXJ1WWVsbG93Rm9nLnR0Zg==.png\"))\n",
    "display(Image(\"notMNIST_large/A/ISBKYW1pcm9xdWFpICEudHRm.png\"),Image(\"notMNIST_small/D/MDEtMDEtMDAudHRm.png\"))"
   ]
  },
  {
   "cell_type": "code",
   "execution_count": 5,
   "metadata": {
    "collapsed": false
   },
   "outputs": [
    {
     "name": "stdout",
     "output_type": "stream",
     "text": [
      "['./notMNIST_large/A', './notMNIST_large/B', './notMNIST_large/C', './notMNIST_large/D', './notMNIST_large/E', './notMNIST_large/F', './notMNIST_large/G', './notMNIST_large/H', './notMNIST_large/I', './notMNIST_large/J']\n"
     ]
    }
   ],
   "source": [
    "print(train_folders)"
   ]
  },
  {
   "cell_type": "markdown",
   "metadata": {
    "colab_type": "text",
    "id": "PBdkjESPK8tw"
   },
   "source": [
    "Now let's load the data in a more manageable format. Since, depending on your computer setup you might not be able to fit it all in memory, we'll load each class into a separate dataset, store them on disk and curate them independently. Later we'll merge them into a single dataset of manageable size.\n",
    "\n",
    "We'll convert the entire dataset into a 3D array (image index, x, y) of floating point values, normalized to have approximately zero mean and standard deviation ~0.5 to make training easier down the road. \n",
    "\n",
    "A few images might not be readable, we'll just skip them."
   ]
  },
  {
   "cell_type": "code",
   "execution_count": 6,
   "metadata": {
    "cellView": "both",
    "colab": {
     "autoexec": {
      "startup": false,
      "wait_interval": 0
     },
     "output_extras": [
      {
       "item_id": 30
      }
     ]
    },
    "colab_type": "code",
    "collapsed": false,
    "executionInfo": {
     "elapsed": 399874,
     "status": "ok",
     "timestamp": 1444485886378,
     "user": {
      "color": "#1FA15D",
      "displayName": "Vincent Vanhoucke",
      "isAnonymous": false,
      "isMe": true,
      "permissionId": "05076109866853157986",
      "photoUrl": "//lh6.googleusercontent.com/-cCJa7dTDcgQ/AAAAAAAAAAI/AAAAAAAACgw/r2EZ_8oYer4/s50-c-k-no/photo.jpg",
      "sessionId": "2a0a5e044bb03b66",
      "userId": "102167687554210253930"
     },
     "user_tz": 420
    },
    "id": "h7q0XhG3MJdf",
    "outputId": "92c391bb-86ff-431d-9ada-315568a19e59"
   },
   "outputs": [
    {
     "name": "stdout",
     "output_type": "stream",
     "text": [
      "./notMNIST_large/A.pickle already present - Skipping pickling.\n",
      "./notMNIST_large/B.pickle already present - Skipping pickling.\n",
      "./notMNIST_large/C.pickle already present - Skipping pickling.\n",
      "./notMNIST_large/D.pickle already present - Skipping pickling.\n",
      "./notMNIST_large/E.pickle already present - Skipping pickling.\n",
      "./notMNIST_large/F.pickle already present - Skipping pickling.\n",
      "./notMNIST_large/G.pickle already present - Skipping pickling.\n",
      "./notMNIST_large/H.pickle already present - Skipping pickling.\n",
      "./notMNIST_large/I.pickle already present - Skipping pickling.\n",
      "./notMNIST_large/J.pickle already present - Skipping pickling.\n",
      "./notMNIST_small/A.pickle already present - Skipping pickling.\n",
      "./notMNIST_small/B.pickle already present - Skipping pickling.\n",
      "./notMNIST_small/C.pickle already present - Skipping pickling.\n",
      "./notMNIST_small/D.pickle already present - Skipping pickling.\n",
      "./notMNIST_small/E.pickle already present - Skipping pickling.\n",
      "./notMNIST_small/F.pickle already present - Skipping pickling.\n",
      "./notMNIST_small/G.pickle already present - Skipping pickling.\n",
      "./notMNIST_small/H.pickle already present - Skipping pickling.\n",
      "./notMNIST_small/I.pickle already present - Skipping pickling.\n",
      "./notMNIST_small/J.pickle already present - Skipping pickling.\n"
     ]
    }
   ],
   "source": [
    "image_size = 28  # Pixel width and height.\n",
    "pixel_depth = 255.0  # Number of levels per pixel.\n",
    "\n",
    "def load_letter(folder, min_num_images):\n",
    "  \"\"\"Load the data for a single letter label.\"\"\"\n",
    "  image_files = os.listdir(folder)\n",
    "  dataset = np.ndarray(shape=(len(image_files), image_size, image_size),\n",
    "                         dtype=np.float32)\n",
    "  print(folder)\n",
    "  num_images = 0\n",
    "  for image in image_files:\n",
    "    image_file = os.path.join(folder, image)\n",
    "    try:\n",
    "      image_data = (ndimage.imread(image_file).astype(float) - \n",
    "                    pixel_depth / 2) / pixel_depth\n",
    "      if image_data.shape != (image_size, image_size):\n",
    "        raise Exception('Unexpected image shape: %s' % str(image_data.shape))\n",
    "      dataset[num_images, :, :] = image_data\n",
    "      num_images = num_images + 1\n",
    "    except IOError as e:\n",
    "      print('Could not read:', image_file, ':', e, '- it\\'s ok, skipping.')\n",
    "    \n",
    "  dataset = dataset[0:num_images, :, :]\n",
    "  if num_images < min_num_images:\n",
    "    raise Exception('Many fewer images than expected: %d < %d' %\n",
    "                    (num_images, min_num_images))\n",
    "    \n",
    "  print('Full dataset tensor:', dataset.shape)\n",
    "  print('Mean:', np.mean(dataset))\n",
    "  print('Standard deviation:', np.std(dataset))\n",
    "  return dataset\n",
    "        \n",
    "def maybe_pickle(data_folders, min_num_images_per_class, force=False):\n",
    "  dataset_names = []\n",
    "  for folder in data_folders:\n",
    "    set_filename = folder + '.pickle'\n",
    "    dataset_names.append(set_filename)\n",
    "    if os.path.exists(set_filename) and not force:\n",
    "      # You may override by setting force=True.\n",
    "      print('%s already present - Skipping pickling.' % set_filename)\n",
    "    else:\n",
    "      print('Pickling %s.' % set_filename)\n",
    "      dataset = load_letter(folder, min_num_images_per_class)\n",
    "      try:\n",
    "        with open(set_filename, 'wb') as f:\n",
    "          pickle.dump(dataset, f, pickle.HIGHEST_PROTOCOL)\n",
    "      except Exception as e:\n",
    "        print('Unable to save data to', set_filename, ':', e)\n",
    "  \n",
    "  return dataset_names\n",
    "\n",
    "\n",
    "\n",
    "train_datasets = maybe_pickle(train_folders, 45000)\n",
    "test_datasets = maybe_pickle(test_folders, 1800)"
   ]
  },
  {
   "cell_type": "markdown",
   "metadata": {
    "colab_type": "text",
    "id": "vUdbskYE2d87"
   },
   "source": [
    "---\n",
    "Problem 2\n",
    "---------\n",
    "\n",
    "Let's verify that the data still looks good. Displaying a sample of the labels and images from the ndarray. Hint: you can use matplotlib.pyplot.\n",
    "\n",
    "---"
   ]
  },
  {
   "cell_type": "code",
   "execution_count": 7,
   "metadata": {
    "collapsed": false
   },
   "outputs": [
    {
     "name": "stdout",
     "output_type": "stream",
     "text": [
      "./notMNIST_large/C.pickle\n"
     ]
    },
    {
     "data": {
      "text/plain": [
       "<matplotlib.image.AxesImage at 0x2aabcfbf8590>"
      ]
     },
     "execution_count": 7,
     "metadata": {},
     "output_type": "execute_result"
    },
    {
     "data": {
      "image/png": "[encoded data removed]",
      "text/plain": [
       "<matplotlib.figure.Figure at 0x2aabcda70110>"
      ]
     },
     "metadata": {},
     "output_type": "display_data"
    }
   ],
   "source": [
    "#print train_datasets\n",
    "pfile = train_datasets[2]\n",
    "print(pfile)\n",
    "datamatrix = pickle.load(open(pfile,\"rb\"))\n",
    "plt.imshow(datamatrix[100])\n",
    "#print(datamatrix[100])\n",
    "    "
   ]
  },
  {
   "cell_type": "markdown",
   "metadata": {
    "colab_type": "text",
    "id": "cYznx5jUwzoO"
   },
   "source": [
    "---\n",
    "Problem 3\n",
    "---------\n",
    "Another check: we expect the data to be balanced across classes. Verify that.\n",
    "\n",
    "---"
   ]
  },
  {
   "cell_type": "code",
   "execution_count": 8,
   "metadata": {
    "collapsed": false
   },
   "outputs": [
    {
     "name": "stdout",
     "output_type": "stream",
     "text": [
      "./notMNIST_large/A.pickle\t52909\n",
      "./notMNIST_large/B.pickle\t52911\n",
      "./notMNIST_large/C.pickle\t52912\n",
      "./notMNIST_large/D.pickle\t52911\n",
      "./notMNIST_large/E.pickle\t52912\n",
      "./notMNIST_large/F.pickle\t52912\n",
      "./notMNIST_large/G.pickle\t52912\n",
      "./notMNIST_large/H.pickle\t52912\n",
      "./notMNIST_large/I.pickle\t52912\n",
      "./notMNIST_large/J.pickle\t52911\n",
      "./notMNIST_small/A.pickle\t1872\n",
      "./notMNIST_small/B.pickle\t1873\n",
      "./notMNIST_small/C.pickle\t1873\n",
      "./notMNIST_small/D.pickle\t1873\n",
      "./notMNIST_small/E.pickle\t1873\n",
      "./notMNIST_small/F.pickle\t1872\n",
      "./notMNIST_small/G.pickle\t1872\n",
      "./notMNIST_small/H.pickle\t1872\n",
      "./notMNIST_small/I.pickle\t1872\n",
      "./notMNIST_small/J.pickle\t1872\n"
     ]
    }
   ],
   "source": [
    "for pfile in train_datasets+test_datasets:\n",
    "    #print pfile\n",
    "    datamatrix = pickle.load(open(pfile,\"rb\"))\n",
    "    print(pfile+\"\\t\"+str(len(datamatrix)))"
   ]
  },
  {
   "cell_type": "markdown",
   "metadata": {
    "colab_type": "text",
    "id": "LA7M7K22ynCt"
   },
   "source": [
    "Merge and prune the training data as needed. Depending on your computer setup, you might not be able to fit it all in memory, and you can tune `train_size` as needed. The labels will be stored into a separate array of integers 0 through 9.\n",
    "\n",
    "Also create a validation dataset for hyperparameter tuning."
   ]
  },
  {
   "cell_type": "code",
   "execution_count": 9,
   "metadata": {
    "cellView": "both",
    "colab": {
     "autoexec": {
      "startup": false,
      "wait_interval": 0
     },
     "output_extras": [
      {
       "item_id": 1
      }
     ]
    },
    "colab_type": "code",
    "collapsed": false,
    "executionInfo": {
     "elapsed": 411281,
     "status": "ok",
     "timestamp": 1444485897869,
     "user": {
      "color": "#1FA15D",
      "displayName": "Vincent Vanhoucke",
      "isAnonymous": false,
      "isMe": true,
      "permissionId": "05076109866853157986",
      "photoUrl": "//lh6.googleusercontent.com/-cCJa7dTDcgQ/AAAAAAAAAAI/AAAAAAAACgw/r2EZ_8oYer4/s50-c-k-no/photo.jpg",
      "sessionId": "2a0a5e044bb03b66",
      "userId": "102167687554210253930"
     },
     "user_tz": 420
    },
    "id": "s3mWgZLpyuzq",
    "outputId": "8af66da6-902d-4719-bedc-7c9fb7ae7948"
   },
   "outputs": [
    {
     "name": "stdout",
     "output_type": "stream",
     "text": [
      "Training: (200000, 28, 28) (200000,)\n",
      "Validation: (10000, 28, 28) (10000,)\n",
      "Testing: (10000, 28, 28) (10000,)\n"
     ]
    }
   ],
   "source": [
    "def make_arrays(nb_rows, img_size):\n",
    "  if nb_rows:\n",
    "    dataset = np.ndarray((nb_rows, img_size, img_size), dtype=np.float32)\n",
    "    labels = np.ndarray(nb_rows, dtype=np.int32)\n",
    "  else:\n",
    "    dataset, labels = None, None\n",
    "  return dataset, labels\n",
    "\n",
    "def merge_datasets(pickle_files, train_size, valid_size=0):\n",
    "  num_classes = len(pickle_files)\n",
    "  valid_dataset, valid_labels = make_arrays(valid_size, image_size)\n",
    "  train_dataset, train_labels = make_arrays(train_size, image_size)\n",
    "  vsize_per_class = valid_size // num_classes\n",
    "  tsize_per_class = train_size // num_classes\n",
    "    \n",
    "  start_v, start_t = 0, 0\n",
    "  end_v, end_t = vsize_per_class, tsize_per_class\n",
    "  end_l = vsize_per_class+tsize_per_class\n",
    "  for label, pickle_file in enumerate(pickle_files):       \n",
    "    try:\n",
    "      with open(pickle_file, 'rb') as f:\n",
    "        letter_set = pickle.load(f)\n",
    "        # let's shuffle the letters to have random validation and training set\n",
    "        np.random.shuffle(letter_set)\n",
    "        if valid_dataset is not None:\n",
    "          valid_letter = letter_set[:vsize_per_class, :, :]\n",
    "          #print(valid_letter)\n",
    "          valid_dataset[start_v:end_v, :, :] = valid_letter\n",
    "          valid_labels[start_v:end_v] = label\n",
    "          start_v += vsize_per_class\n",
    "          end_v += vsize_per_class\n",
    "                    \n",
    "        train_letter = letter_set[vsize_per_class:end_l, :, :]\n",
    "        train_dataset[start_t:end_t, :, :] = train_letter\n",
    "        train_labels[start_t:end_t] = label\n",
    "        start_t += tsize_per_class\n",
    "        end_t += tsize_per_class\n",
    "    except Exception as e:\n",
    "      print('Unable to process data from', pickle_file, ':', e)\n",
    "      raise\n",
    "    \n",
    "  return valid_dataset, valid_labels, train_dataset, train_labels\n",
    "            \n",
    "            \n",
    "train_size = 200000\n",
    "valid_size = 10000\n",
    "test_size = 10000\n",
    "\n",
    "valid_dataset, valid_labels, train_dataset, train_labels = merge_datasets(\n",
    "  train_datasets, train_size, valid_size)\n",
    "_, _, test_dataset, test_labels = merge_datasets(test_datasets, test_size)\n",
    "\n",
    "print('Training:', train_dataset.shape, train_labels.shape)\n",
    "print('Validation:', valid_dataset.shape, valid_labels.shape)\n",
    "print('Testing:', test_dataset.shape, test_labels.shape)"
   ]
  },
  {
   "cell_type": "markdown",
   "metadata": {
    "colab_type": "text",
    "id": "GPTCnjIcyuKN"
   },
   "source": [
    "Next, we'll randomize the data. It's important to have the labels well shuffled for the training and test distributions to match."
   ]
  },
  {
   "cell_type": "code",
   "execution_count": 10,
   "metadata": {
    "cellView": "both",
    "colab": {
     "autoexec": {
      "startup": false,
      "wait_interval": 0
     }
    },
    "colab_type": "code",
    "collapsed": true,
    "id": "6WZ2l2tN2zOL"
   },
   "outputs": [],
   "source": [
    "def randomize(dataset, labels):\n",
    "  permutation = np.random.permutation(labels.shape[0])\n",
    "  shuffled_dataset = dataset[permutation,:,:]\n",
    "  shuffled_labels = labels[permutation]\n",
    "  return shuffled_dataset, shuffled_labels\n",
    "train_dataset, train_labels = randomize(train_dataset, train_labels)\n",
    "test_dataset, test_labels = randomize(test_dataset, test_labels)\n",
    "valid_dataset, valid_labels = randomize(valid_dataset, valid_labels)"
   ]
  },
  {
   "cell_type": "markdown",
   "metadata": {
    "colab_type": "text",
    "id": "puDUTe6t6USl"
   },
   "source": [
    "---\n",
    "Problem 4\n",
    "---------\n",
    "Convince yourself that the data is still good after shuffling!\n",
    "\n",
    "---"
   ]
  },
  {
   "cell_type": "code",
   "execution_count": 11,
   "metadata": {
    "collapsed": false
   },
   "outputs": [
    {
     "name": "stdout",
     "output_type": "stream",
     "text": [
      "[(0, 20000), (1, 20000), (2, 20000), (3, 20000), (4, 20000), (5, 20000), (6, 20000), (7, 20000), (8, 20000), (9, 20000)]\n",
      "[(0, 1000), (1, 1000), (2, 1000), (3, 1000), (4, 1000), (5, 1000), (6, 1000), (7, 1000), (8, 1000), (9, 1000)]\n"
     ]
    },
    {
     "name": "stderr",
     "output_type": "stream",
     "text": [
      "/home2/bchen4/.local/lib/python2.7/site-packages/pandas/computation/__init__.py:19: UserWarning: The installed version of numexpr 2.4.4 is not supported in pandas and will be not be used\n",
      "\n",
      "  UserWarning)\n"
     ]
    }
   ],
   "source": [
    "#make sure in training and testing, the numbers of data of each letter are similar\n",
    "import pandas as pd\n",
    "unique,counts  = np.unique(train_labels, return_counts=True)\n",
    "print(zip(unique, counts))\n",
    "unique,counts  = np.unique(valid_labels, return_counts=True)\n",
    "print(zip(unique, counts))"
   ]
  },
  {
   "cell_type": "markdown",
   "metadata": {
    "colab_type": "text",
    "id": "tIQJaJuwg5Hw"
   },
   "source": [
    "Finally, let's save the data for later reuse:"
   ]
  },
  {
   "cell_type": "code",
   "execution_count": 12,
   "metadata": {
    "cellView": "both",
    "colab": {
     "autoexec": {
      "startup": false,
      "wait_interval": 0
     }
    },
    "colab_type": "code",
    "collapsed": true,
    "id": "QiR_rETzem6C"
   },
   "outputs": [],
   "source": [
    "pickle_file = os.path.join(data_root, 'notMNIST.pickle')\n",
    "\n",
    "try:\n",
    "  f = open(pickle_file, 'wb')\n",
    "  save = {\n",
    "    'train_dataset': train_dataset,\n",
    "    'train_labels': train_labels,\n",
    "    'valid_dataset': valid_dataset,\n",
    "    'valid_labels': valid_labels,\n",
    "    'test_dataset': test_dataset,\n",
    "    'test_labels': test_labels,\n",
    "    }\n",
    "  pickle.dump(save, f, pickle.HIGHEST_PROTOCOL)\n",
    "  f.close()\n",
    "except Exception as e:\n",
    "  print('Unable to save data to', pickle_file, ':', e)\n",
    "  raise"
   ]
  },
  {
   "cell_type": "code",
   "execution_count": 13,
   "metadata": {
    "cellView": "both",
    "colab": {
     "autoexec": {
      "startup": false,
      "wait_interval": 0
     },
     "output_extras": [
      {
       "item_id": 1
      }
     ]
    },
    "colab_type": "code",
    "collapsed": false,
    "executionInfo": {
     "elapsed": 413065,
     "status": "ok",
     "timestamp": 1444485899688,
     "user": {
      "color": "#1FA15D",
      "displayName": "Vincent Vanhoucke",
      "isAnonymous": false,
      "isMe": true,
      "permissionId": "05076109866853157986",
      "photoUrl": "//lh6.googleusercontent.com/-cCJa7dTDcgQ/AAAAAAAAAAI/AAAAAAAACgw/r2EZ_8oYer4/s50-c-k-no/photo.jpg",
      "sessionId": "2a0a5e044bb03b66",
      "userId": "102167687554210253930"
     },
     "user_tz": 420
    },
    "id": "hQbLjrW_iT39",
    "outputId": "b440efc6-5ee1-4cbc-d02d-93db44ebd956"
   },
   "outputs": [
    {
     "name": "stdout",
     "output_type": "stream",
     "text": [
      "Compressed pickle size: 690800441\n"
     ]
    }
   ],
   "source": [
    "statinfo = os.stat(pickle_file)\n",
    "print('Compressed pickle size:', statinfo.st_size)"
   ]
  },
  {
   "cell_type": "markdown",
   "metadata": {
    "colab_type": "text",
    "id": "gE_cRAQB33lk"
   },
   "source": [
    "---\n",
    "Problem 5\n",
    "---------\n",
    "\n",
    "By construction, this dataset might contain a lot of overlapping samples, including training data that's also contained in the validation and test set! Overlap between training and test can skew the results if you expect to use your model in an environment where there is never an overlap, but are actually ok if you expect to see training samples recur when you use it.\n",
    "Measure how much overlap there is between training, validation and test samples.\n",
    "\n",
    "Optional questions:\n",
    "- What about near duplicates between datasets? (images that are almost identical)\n",
    "- Create a sanitized validation and test set, and compare your accuracy on those in subsequent assignments.\n",
    "---"
   ]
  },
  {
   "cell_type": "code",
   "execution_count": 14,
   "metadata": {
    "collapsed": false
   },
   "outputs": [
    {
     "name": "stdout",
     "output_type": "stream",
     "text": [
      "[[1 2 3 9]\n",
      " [4 5 6 7]]\n",
      "[[[1 2]\n",
      "  [3 9]]\n",
      "\n",
      " [[4 5]\n",
      "  [6 7]]]\n"
     ]
    }
   ],
   "source": [
    "a = np.array([[1,2,3,9],[4,5,6,7]])\n",
    "print(a)\n",
    "b = np.reshape(a,(2,2,2))\n",
    "print(b)"
   ]
  },
  {
   "cell_type": "code",
   "execution_count": 71,
   "metadata": {
    "collapsed": false
   },
   "outputs": [
    {
     "name": "stdout",
     "output_type": "stream",
     "text": [
      "data sanitizer called\n",
      "Processing lable: 0\n",
      "Processing lable: 1\n",
      "100 Identical image found\n",
      "Processing lable: 2\n",
      "200 Identical image found\n",
      "Processing lable: 3\n",
      "300 Identical image found\n",
      "Processing lable: 4\n",
      "400 Identical image found\n",
      "Processing lable: 5\n",
      "500 Identical image found\n",
      "Processing lable: 6\n",
      "600 Identical image found\n",
      "Processing lable: 7\n",
      "700 Identical image found\n",
      "Processing lable: 8\n",
      "800 Identical image found\n",
      "900 Identical image found\n",
      "Processing lable: 9\n",
      "1000 Identical image found\n",
      "data sanitizer called\n",
      "Processing lable: 0\n",
      "100 Identical image found\n",
      "Processing lable: 1\n",
      "200 Identical image found\n",
      "Processing lable: 2\n",
      "300 Identical image found\n",
      "Processing lable: 3\n",
      "400 Identical image found\n",
      "Processing lable: 4\n",
      "500 Identical image found\n",
      "Processing lable: 5\n",
      "600 Identical image found\n",
      "Processing lable: 6\n",
      "700 Identical image found\n",
      "Processing lable: 7\n",
      "800 Identical image found\n",
      "900 Identical image found\n",
      "Processing lable: 8\n",
      "1000 Identical image found\n",
      "1100 Identical image found\n",
      "Processing lable: 9\n",
      "1200 Identical image found\n",
      "1300 Identical image found\n",
      "Identical figure:1066\n",
      "8934\n",
      "Identical figure:1304\n",
      "8696\n"
     ]
    }
   ],
   "source": [
    "from scipy import spatial\n",
    "#print(train_dataset[0:2].shape)\n",
    "train_shape = train_dataset.shape\n",
    "test_shape = test_dataset.shape\n",
    "valid_shape = valid_dataset.shape\n",
    "#train_flat = np.reshape(train_dataset,(train_shape[0],train_shape[1]*train_shape[2]))\n",
    "#test_flat = np.reshape(test_dataset,(test_shape[0],test_shape[1]*test_shape[2]))\n",
    "#valid_flat = np.reshape(valid_dataset,(valid_shape[0],valid_shape[1]*valid_shape[2]))\n",
    "#print(train_flat[0])\n",
    "#print(valid_labels[0:20])\n",
    "\n",
    "def data_sanitizer(a,b,lab_a, lab_b,cutoff=0.98):\n",
    "    print(\"data sanitizer called\")    \n",
    "    identical = 0\n",
    "    similar = 0\n",
    "    keep_b = []\n",
    "    for label in range(max(train_labels)+1):\n",
    "        print(\"Processing lable: \"+str(label))\n",
    "        index_a = np.where(lab_a==label)[0]\n",
    "        index_b = np.where(lab_b==label)[0]\n",
    "        \n",
    "        #print(index_b.size)\n",
    "        data_a = a[index_a]\n",
    "        data_b = b[index_b]\n",
    "     \n",
    "        for item_b in data_b:\n",
    "            keep = True\n",
    "            identical_num = np.sum(np.sum(np.abs(item_b-data_a), axis=(-1,-2))==0) #Manhattan distance\n",
    "            if identical_num == 0:#No identical items\n",
    "                keep_b.append(item_b)\n",
    "            else:\n",
    "                identical += 1\n",
    "                if identical % 100 ==0:\n",
    "                    print(str(identical)+\" Identical image found\")\n",
    "                \n",
    "    return(keep_b, identical)\n",
    "        \n",
    "(clean_valid, valid_identical) = data_sanitizer(train_dataset, valid_dataset, train_labels, valid_labels)\n",
    "(clean_test, test_identical) = data_sanitizer(train_dataset, test_dataset, train_labels, test_labels)\n",
    "print(\"Identical figure:\"+ str(valid_identical))\n",
    "print(len(clean_valid))\n",
    "print(\"Identical figure:\"+ str(test_identical))\n",
    "print(len(clean_test))\n",
    "\n",
    "\n"
   ]
  },
  {
   "cell_type": "markdown",
   "metadata": {
    "colab_type": "text",
    "id": "L8oww1s4JMQx"
   },
   "source": [
    "---\n",
    "Problem 6\n",
    "---------\n",
    "\n",
    "Let's get an idea of what an off-the-shelf classifier can give you on this data. It's always good to check that there is something to learn, and that it's a problem that is not so trivial that a canned solution solves it.\n",
    "\n",
    "Train a simple model on this data using 50, 100, 1000 and 5000 training samples. Hint: you can use the LogisticRegression model from sklearn.linear_model.\n",
    "\n",
    "Optional question: train an off-the-shelf model on all the data!\n",
    "\n",
    "---"
   ]
  },
  {
   "cell_type": "code",
   "execution_count": 115,
   "metadata": {
    "collapsed": false
   },
   "outputs": [
    {
     "name": "stdout",
     "output_type": "stream",
     "text": [
      "Choose traning data finished\n",
      "[[-0.5        -0.5        -0.5        ..., -0.5        -0.5        -0.5       ]\n",
      " [ 0.5         0.5         0.5        ..., -0.5        -0.5        -0.5       ]\n",
      " [-0.5        -0.5        -0.5        ..., -0.5        -0.5        -0.5       ]\n",
      " ..., \n",
      " [-0.5        -0.5        -0.5        ...,  0.49215686  0.35882354\n",
      "  -0.17843138]\n",
      " [-0.5        -0.5        -0.5        ..., -0.5        -0.5        -0.5       ]\n",
      " [-0.5        -0.5        -0.5        ...,  0.5         0.5         0.45686275]]\n",
      "[7 3 0 4 7 8 9 7 5 0]\n"
     ]
    }
   ],
   "source": [
    "import random\n",
    "#make image data into 2D so sklearn can deal with it\n",
    "train_flat = np.reshape(train_dataset,(train_shape[0],train_shape[1]*train_shape[2]))\n",
    "test_flat = np.reshape(test_dataset,(test_shape[0],test_shape[1]*test_shape[2]))\n",
    "valid_flat = np.reshape(valid_dataset,(valid_shape[0],valid_shape[1]*valid_shape[2]))\n",
    "\n",
    "#Function to randomly choose N training samples, try to make sure each group has similar representation\n",
    "def randomChooseTrain(data, label, count, seed = 0):\n",
    "    random.seed(seed)\n",
    "    num_of_labels = max(label)+1\n",
    "    count_per_label = count // num_of_labels\n",
    "    residual = count % num_of_labels\n",
    "    #print(label[0:100])\n",
    "    picked_index = []\n",
    "    for currentlabel in range(num_of_labels):\n",
    "        if currentlabel == 0:\n",
    "            pick = count_per_label + residual\n",
    "        else:\n",
    "            pick = count_per_label\n",
    "        index_of_label = np.where(label==currentlabel)[0]\n",
    "        #print(index_of_label)\n",
    "        pick_index = random.sample(index_of_label, pick)\n",
    "        picked_index += pick_index\n",
    "        \n",
    "    #shuffle label and extract data\n",
    "    np.random.shuffle(picked_index)\n",
    "    #print(picked_index)\n",
    "    picked_data = data[picked_index]\n",
    "    picked_labels = label[picked_index]\n",
    "    return(picked_data, picked_labels)\n",
    "\n",
    "(X_train_50, y_train_50) = randomChooseTrain(train_flat, train_labels, 50)\n",
    "(X_train_100, y_train_100) = randomChooseTrain(train_flat, train_labels, 100)\n",
    "(X_train_5000, y_train_5000) = randomChooseTrain(train_flat, train_labels, 5000)\n",
    "\n",
    "print(\"Choose traning data finished\")\n",
    "print(X_train_5000[0:10])\n",
    "print(y_train_5000[0:10])"
   ]
  },
  {
   "cell_type": "code",
   "execution_count": 136,
   "metadata": {
    "collapsed": false
   },
   "outputs": [
    {
     "data": {
      "text/plain": [
       "LogisticRegression(C=1.0, class_weight=None, dual=False, fit_intercept=True,\n",
       "          intercept_scaling=1, max_iter=100, multi_class='multinomial',\n",
       "          n_jobs=1, penalty='l2', random_state=None, solver='lbfgs',\n",
       "          tol=0.0001, verbose=0, warm_start=False)"
      ]
     },
     "execution_count": 136,
     "metadata": {},
     "output_type": "execute_result"
    }
   ],
   "source": [
    "#try the model\n",
    "model = LogisticRegression(multi_class=\"multinomial\", solver=\"lbfgs\")\n",
    "model.fit(X_train_5000, y_train_5000)"
   ]
  },
  {
   "cell_type": "code",
   "execution_count": 137,
   "metadata": {
    "collapsed": false
   },
   "outputs": [
    {
     "name": "stdout",
     "output_type": "stream",
     "text": [
      "[1 9 3 8 9 3 9 7 2 7]\n",
      "Score:\n",
      "             precision    recall  f1-score   support\n",
      "\n",
      "          0       0.76      0.76      0.76      1007\n",
      "          1       0.76      0.77      0.77       981\n",
      "          2       0.81      0.80      0.80      1013\n",
      "          3       0.78      0.78      0.78      1010\n",
      "          4       0.73      0.77      0.75       949\n",
      "          5       0.81      0.80      0.81      1021\n",
      "          6       0.73      0.78      0.75       938\n",
      "          7       0.79      0.81      0.80       978\n",
      "          8       0.76      0.73      0.74      1044\n",
      "          9       0.82      0.77      0.79      1059\n",
      "\n",
      "avg / total       0.78      0.78      0.78     10000\n",
      "\n",
      "F1 score: 0.775459048932\n",
      "confusion_matrix\n"
     ]
    },
    {
     "data": {
      "text/plain": [
       "<matplotlib.collections.PolyCollection at 0x2aac2f599290>"
      ]
     },
     "execution_count": 137,
     "metadata": {},
     "output_type": "execute_result"
    },
    {
     "data": {
      "image/png": "[encoded data removed]",
      "text/plain": [
       "<matplotlib.figure.Figure at 0x2aac2f44edd0>"
      ]
     },
     "metadata": {},
     "output_type": "display_data"
    }
   ],
   "source": [
    "y_pred_valid = model.predict(valid_flat)\n",
    "print(y_pred_valid[0:10])\n",
    "#try sklearn.metric\n",
    "from sklearn.metrics import confusion_matrix, precision_recall_fscore_support, classification_report, f1_score\n",
    "y_pred_valid = model.predict(valid_flat)\n",
    "\n",
    "#Calculate the metric\n",
    "print(\"Score:\")\n",
    "print(classification_report(y_pred_valid, valid_labels))\n",
    "print(\"F1 score: \"+ str(f1_score(valid_labels, y_pred_valid, average=\"weighted\")))\n",
    "print(\"confusion_matrix\")\n",
    "plt.pcolor(confusion_matrix(y_pred_valid, valid_labels), cmap=\"Blues\")\n"
   ]
  },
  {
   "cell_type": "code",
   "execution_count": 144,
   "metadata": {
    "collapsed": false
   },
   "outputs": [
    {
     "name": "stdout",
     "output_type": "stream",
     "text": [
      "Final c selected using validation data: 0.001\n",
      "Final F1_score selected using validation data: 0.800219414731\n",
      "             precision    recall  f1-score   support\n",
      "\n",
      "          0       0.77      0.78      0.77      1000\n",
      "          1       0.91      0.74      0.82      1000\n",
      "          2       0.83      0.85      0.84      1000\n",
      "          3       0.80      0.85      0.83      1000\n",
      "          4       0.87      0.72      0.79      1000\n",
      "          5       0.78      0.86      0.82      1000\n",
      "          6       0.85      0.78      0.81      1000\n",
      "          7       0.84      0.82      0.83      1000\n",
      "          8       0.70      0.76      0.73      1000\n",
      "          9       0.70      0.84      0.77      1000\n",
      "\n",
      "avg / total       0.81      0.80      0.80     10000\n",
      "\n"
     ]
    }
   ],
   "source": [
    "#Start to build the model. Tuning C using validation dataset. \n",
    "\n",
    "c_values = [0.0001, 0.001, 0.01, 0.1, 0.5, 1, 10, 100, 1000, 10000]\n",
    "final_f1 = 0\n",
    "for c in c_values[0:2]:\n",
    "    model = LogisticRegression(multi_class=\"multinomial\", solver=\"lbfgs\", C=c)\n",
    "    model.fit(X_train_5000, y_train_5000)\n",
    "    y_pred_valid = model.predict(valid_flat)\n",
    "    model_f1 = f1_score(valid_labels, y_pred_valid, average=\"weighted\")\n",
    "    if model_f1 > final_f1:\n",
    "        final_c = c\n",
    "        final_model = model\n",
    "        final_f1 = model_f1\n",
    "print(\"Final c selected using validation data: \"+str(final_c))\n",
    "print(\"Final F1_score selected using validation data: \"+str(final_f1))\n",
    "print(classification_report(valid_labels, y_pred_valid))"
   ]
  },
  {
   "cell_type": "code",
   "execution_count": 153,
   "metadata": {
    "collapsed": false,
    "scrolled": true
   },
   "outputs": [
    {
     "name": "stdout",
     "output_type": "stream",
     "text": [
      "C value chosen for best model: [ 0.0001  0.0001  0.0001  0.0001  0.0001  0.0001  0.0001  0.0001  0.0001\n",
      "  0.0001]\n",
      "Score:\n",
      "             precision    recall  f1-score   support\n",
      "\n",
      "          0       0.70      0.73      0.71      1000\n",
      "          1       0.91      0.66      0.77      1000\n",
      "          2       0.75      0.83      0.79      1000\n",
      "          3       0.83      0.80      0.81      1000\n",
      "          4       0.91      0.59      0.72      1000\n",
      "          5       0.76      0.84      0.80      1000\n",
      "          6       0.86      0.67      0.75      1000\n",
      "          7       0.83      0.78      0.80      1000\n",
      "          8       0.61      0.76      0.67      1000\n",
      "          9       0.59      0.85      0.70      1000\n",
      "\n",
      "avg / total       0.78      0.75      0.75     10000\n",
      "\n",
      "F1 score: 0.75293934839\n"
     ]
    }
   ],
   "source": [
    "#Also try to used LogisticRegressionCV which does cross-validation on training dataset\n",
    "from sklearn.linear_model import LogisticRegressionCV\n",
    "model_cv = LogisticRegressionCV(multi_class=\"multinomial\", solver=\"lbfgs\", Cs=1)\n",
    "model_cv.fit(X_train_5000, y_train_5000)\n",
    "y_pred_valid = model_cv.predict(valid_flat)\n",
    "print(\"C value chosen for best model: \"+str(model_cv.C_))\n",
    "print(\"Score:\")\n",
    "print(classification_report(valid_labels, y_pred_valid))\n",
    "print(\"F1 score: \"+ str(f1_score(valid_labels, y_pred_valid, average=\"weighted\")))\n",
    "\n"
   ]
  },
  {
   "cell_type": "code",
   "execution_count": 154,
   "metadata": {
    "collapsed": false,
    "scrolled": true
   },
   "outputs": [
    {
     "name": "stdout",
     "output_type": "stream",
     "text": [
      "Scores for manually chosen model:\n",
      "             precision    recall  f1-score   support\n",
      "\n",
      "          0       0.89      0.85      0.87      1000\n",
      "          1       0.94      0.83      0.88      1000\n",
      "          2       0.88      0.92      0.90      1000\n",
      "          3       0.90      0.92      0.91      1000\n",
      "          4       0.90      0.80      0.85      1000\n",
      "          5       0.83      0.93      0.88      1000\n",
      "          6       0.90      0.84      0.87      1000\n",
      "          7       0.90      0.84      0.87      1000\n",
      "          8       0.79      0.85      0.82      1000\n",
      "          9       0.77      0.89      0.82      1000\n",
      "\n",
      "avg / total       0.87      0.87      0.87     10000\n",
      "\n",
      "F1 score: 0.866531115703\n",
      "\n",
      "Scores for CV chosen model:\n",
      "             precision    recall  f1-score   support\n",
      "\n",
      "          0       0.84      0.82      0.83      1000\n",
      "          1       0.93      0.76      0.84      1000\n",
      "          2       0.79      0.90      0.84      1000\n",
      "          3       0.91      0.87      0.89      1000\n",
      "          4       0.91      0.69      0.78      1000\n",
      "          5       0.81      0.90      0.85      1000\n",
      "          6       0.92      0.73      0.81      1000\n",
      "          7       0.89      0.79      0.84      1000\n",
      "          8       0.70      0.84      0.76      1000\n",
      "          9       0.65      0.88      0.75      1000\n",
      "\n",
      "avg / total       0.83      0.82      0.82     10000\n",
      "\n",
      "F1 score: 0.818732615955\n"
     ]
    }
   ],
   "source": [
    "#Use model on testing data\n",
    "y_pred_test_manual = final_model.predict(test_flat)\n",
    "y_pred_test_cv = model_cv.predict(test_flat)\n",
    "print(\"Scores for manually chosen model:\")\n",
    "print(classification_report(test_labels, y_pred_test_manual))\n",
    "print(\"F1 score: \"+ str(f1_score(test_labels, y_pred_test_manual, average=\"weighted\")))\n",
    "print(\"\")\n",
    "print(\"Scores for CV chosen model:\")\n",
    "print(classification_report(test_labels, y_pred_test_cv))\n",
    "print(\"F1 score: \"+ str(f1_score(test_labels, y_pred_test_cv, average=\"weighted\")))\n"
   ]
  },
  {
   "cell_type": "markdown",
   "metadata": {},
   "source": [
    "**Notes from this assignment**\n",
    "* [About interpretation about fit intercept or not](http://stats.stackexchange.com/questions/131456/confused-about-0-intercept-in-logistic-regression-in-r)"
   ]
  },
  {
   "cell_type": "code",
   "execution_count": null,
   "metadata": {
    "collapsed": true
   },
   "outputs": [],
   "source": []
  }
 ],
 "metadata": {
  "colab": {
   "default_view": {},
   "name": "1_notmnist.ipynb",
   "provenance": [],
   "version": "0.3.2",
   "views": {}
  },
  "kernelspec": {
   "display_name": "Python 2",
   "language": "python",
   "name": "python2"
  },
  "language_info": {
   "codemirror_mode": {
    "name": "ipython",
    "version": 2
   },
   "file_extension": ".py",
   "mimetype": "text/x-python",
   "name": "python",
   "nbconvert_exporter": "python",
   "pygments_lexer": "ipython2",
   "version": "2.7.12"
  }
 },
 "nbformat": 4,
 "nbformat_minor": 0
}
